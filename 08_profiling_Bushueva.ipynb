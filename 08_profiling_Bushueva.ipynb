{
 "cells": [
  {
   "cell_type": "markdown",
   "metadata": {
    "id": "V9mctTS9JG4d"
   },
   "source": [
    "## Оптимизация выполнения кода, векторизация, Numba"
   ]
  },
  {
   "cell_type": "markdown",
   "metadata": {
    "id": "93wyHdAKJG4l"
   },
   "source": [
    "## Лабораторная работа 8"
   ]
  },
  {
   "cell_type": "markdown",
   "metadata": {
    "id": "NLCsaY3qJG4n"
   },
   "source": [
    "1. В файлах `recipes_sample.csv` и `reviews_sample.csv` (__ЛР 2__) находится информация об рецептах блюд и отзывах на эти рецепты соответственно. Загрузите данные из файлов в виде `pd.DataFrame` с названиями `recipes` и `reviews`. Обратите внимание на корректное считывание столбца(ов) с индексами. Приведите столбцы к нужным типам.\n",
    "\n",
    "Реализуйте несколько вариантов функции подсчета среднего значения столбца `rating` из таблицы `reviews` для отзывов, оставленных в 2010 году.\n",
    "\n",
    "A. С использованием метода `DataFrame.iterrows` исходной таблицы;\n",
    "\n",
    "Б. С использованием метода `DataFrame.iterrows` таблицы, в которой сохранены только отзывы за 2010 год;\n",
    "\n",
    "В. С использованием метода `Series.mean`.\n",
    "\n",
    "Проверьте, что результаты работы всех написанных функций корректны и совпадают. Измерьте выполнения всех написанных функций.\n"
   ]
  },
  {
   "cell_type": "code",
   "execution_count": 3,
   "metadata": {
    "colab": {
     "base_uri": "https://localhost:8080/"
    },
    "id": "jrLcqi8gJ9In",
    "outputId": "97b9edd0-117c-4c18-e803-c4a009d8e169"
   },
   "outputs": [
    {
     "name": "stdout",
     "output_type": "stream",
     "text": [
      "Средний рейтинг А: 4.4544402182900615 Время выполнения: 2.5274598598480225\n",
      "Средний рейтинг В: 4.4544402182900615 Время выполнения: 0.25812196731567383\n",
      "Средний рейтинг С: 4.4544402182900615 Время выполнения: 0.0067119598388671875\n"
     ]
    }
   ],
   "source": [
    "import pandas as pd\n",
    "import time\n",
    "\n",
    "recipes = pd.read_csv(r'/Users/bshkrrr/Downloads/тод/лр2/recipes_sample.csv')\n",
    "reviews = pd.read_csv(r'/Users/bshkrrr/Downloads/тод/лр2/reviews_sample.csv')\n",
    "\n",
    "recipes['id'] = recipes['id'].astype(int)\n",
    "recipes['minutes'] = recipes['minutes'].astype(int)\n",
    "reviews['user_id'] = reviews['user_id'].astype(int)\n",
    "reviews['recipe_id'] = reviews['recipe_id'].astype(int)\n",
    "reviews['rating'] = reviews['rating'].astype(float)\n",
    "reviews['date'] = pd.to_datetime(reviews['date'])\n",
    "\n",
    "def av_val_1(file):\n",
    "    summ = 0\n",
    "    counter = 0\n",
    "    for i, row in file.iterrows():\n",
    "        if row['date'].year == 2010:\n",
    "            summ += row['rating']\n",
    "            counter += 1\n",
    "    return summ/counter\n",
    "\n",
    "def av_val_2(file):\n",
    "    new_file = file[file['date'].dt.year == 2010]\n",
    "    summ = 0\n",
    "    counter = 0\n",
    "    for i, row in new_file.iterrows():\n",
    "        summ += row['rating']\n",
    "        counter += 1\n",
    "    return summ/counter\n",
    "\n",
    "def av_val_3(file):\n",
    "    new_file = file[file['date'].dt.year == 2010]\n",
    "    return new_file['rating'].mean()\n",
    "\n",
    "#A\n",
    "start_time = time.time()\n",
    "av_val = av_val_1(reviews)\n",
    "end_time = time.time()\n",
    "print(f'Средний рейтинг А: {av_val} Время выполнения: {end_time - start_time}')\n",
    "\n",
    "#B\n",
    "start_time = time.time()\n",
    "av_val2 = av_val_2(reviews)\n",
    "end_time = time.time()\n",
    "print(f'Средний рейтинг В: {av_val2} Время выполнения: {end_time - start_time}')\n",
    "\n",
    "#C\n",
    "start_time = time.time()\n",
    "av_val3 = av_val_3(reviews)\n",
    "end_time = time.time()\n",
    "print(f'Средний рейтинг С: {av_val3} Время выполнения: {end_time - start_time}')  "
   ]
  },
  {
   "cell_type": "code",
   "execution_count": null,
   "metadata": {},
   "outputs": [],
   "source": []
  }
 ],
 "metadata": {
  "colab": {
   "provenance": []
  },
  "kernelspec": {
   "display_name": "Python 3 (ipykernel)",
   "language": "python",
   "name": "python3"
  },
  "language_info": {
   "codemirror_mode": {
    "name": "ipython",
    "version": 3
   },
   "file_extension": ".py",
   "mimetype": "text/x-python",
   "name": "python",
   "nbconvert_exporter": "python",
   "pygments_lexer": "ipython3",
   "version": "3.9.12"
  }
 },
 "nbformat": 4,
 "nbformat_minor": 1
}
